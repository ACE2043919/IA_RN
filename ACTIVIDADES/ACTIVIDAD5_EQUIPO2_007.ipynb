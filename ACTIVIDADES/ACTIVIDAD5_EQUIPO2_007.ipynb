{
  "nbformat": 4,
  "nbformat_minor": 0,
  "metadata": {
    "colab": {
      "provenance": [],
      "include_colab_link": true
    },
    "kernelspec": {
      "name": "python3",
      "display_name": "Python 3"
    },
    "language_info": {
      "name": "python"
    }
  },
  "cells": [
    {
      "cell_type": "markdown",
      "metadata": {
        "id": "view-in-github",
        "colab_type": "text"
      },
      "source": [
        "<a href=\"https://colab.research.google.com/github/ACE2043919/IA_RN/blob/main/ACTIVIDAD5_EQUIPO2_007.ipynb\" target=\"_parent\"><img src=\"https://colab.research.google.com/assets/colab-badge.svg\" alt=\"Open In Colab\"/></a>"
      ]
    },
    {
      "cell_type": "markdown",
      "source": [
        "# **Actividad 5: Procesamiento de conjuntos de datos en Python**\n",
        "\n",
        "\n",
        "*   Ariel Alejandro Celestino Diaz de Leon - 2043919\n",
        "*   Rogelio Rodriguez Garcia - 2072414\n",
        "* Fermin Andres Castillo Almanza - 2048790\n",
        "* Alonso Alejandro Sanchez Cedillo - 2078344\n",
        "* Diego Alejandro Muñiz Acuña - 2082358\n",
        "\n"
      ],
      "metadata": {
        "id": "spcVdntJO30a"
      }
    },
    {
      "cell_type": "code",
      "execution_count": null,
      "metadata": {
        "colab": {
          "base_uri": "https://localhost:8080/"
        },
        "id": "Su7JJVh_JU9D",
        "outputId": "7313c7a0-dfc3-426e-e989-c2af0a13bb23"
      },
      "outputs": [
        {
          "output_type": "stream",
          "name": "stdout",
          "text": [
            "    Tiempo (s)  Distancia (cm)  Velocidad (cm/s)  Temperatura (°C)\n",
            "1            1       95.564288         27.095047         23.704682\n",
            "2            2       75.879455         43.647292         33.593819\n",
            "3            3       63.879264         36.611244         23.743193\n",
            "4            4       24.041678         40.328057         24.079246\n",
            "5            5       24.039507         32.939168         31.390974\n",
            "6            6       15.227525         34.613828         26.746098\n",
            "7            7       87.955853         42.459783         31.650658\n",
            "8            8       64.100351         12.483400         20.980492\n",
            "9            9       73.726532         24.471248         27.313568\n",
            "10          10       11.852604         11.060472         20.504204\n",
            "11          11       97.291887         49.383400         20.939798\n",
            "12          12       84.919838         47.202967         33.596562\n",
            "13          13       29.110520          1.971341         22.088681\n",
            "14          14       26.364247         35.278759         27.986310\n",
            "15          15       26.506406         46.262416         26.166434\n",
            "16          16       37.381802          9.028767         25.210150\n",
            "17          17       57.228079         28.397262         33.497500\n",
            "18          18       48.875052         45.774415         20.327351\n",
            "19          19       36.210623          1.697299         29.956845\n",
            "20          20       65.066761         34.871013         34.450917\n",
            "21          21       22.554447         14.867450         28.402523\n",
            "22          22       36.293018         46.219810         34.052337\n",
            "24          24       51.046299         47.213324         26.281900\n",
            "25          25       80.665837         23.710711         23.902367\n",
            "26          26       27.970640         43.102133         30.962314\n",
            "27          27       56.281099         42.227470         34.719456\n",
            "29          29       14.180537         41.445774         29.812619\n",
            "30          30       64.679037          1.850382         22.971464\n",
            "31          31       25.347171         29.813494         28.479954\n",
            "33          33       95.399698          6.028344         34.580080\n",
            "34          34       96.906883          3.847660         29.127909\n",
            "35          35       82.755761         34.814439         25.242596\n",
            "36          36       37.415239         16.993748         21.711437\n",
            "37          37       18.790490         36.238339         22.268702\n",
            "38          38       71.580972          3.267817         23.379754\n",
            "39          39       49.613724         15.764517         23.764500\n",
            "40          40       20.983441         26.974565         32.759241\n",
            "41          41       54.565922         39.536158         28.418342\n",
            "42          42       13.094967         15.937625         27.850864\n",
            "43          43       91.838836         31.294569         21.721533\n",
            "44          44       33.290198         44.298887         32.902095\n",
            "45          45       69.627006         30.793159         30.842215\n",
            "46          46       38.053997         11.647974         21.015025\n",
            "47          47       56.806122          1.220039         30.617526\n",
            "48          48       59.203925         43.504944         28.153073\n",
            "49          49       26.636901          1.063471         21.225880\n"
          ]
        }
      ],
      "source": [
        "import pandas as pd\n",
        "import matplotlib.pyplot as plt\n",
        "import numpy as np\n",
        "\n",
        "Sensores_Robots = pd.read_csv('https://raw.githubusercontent.com/dilp90/InteligenciaArtificial_y_RedesNeuronales_UANL_FIME/refs/heads/main/MachineLearning/Datasets/robot_sensors.csv')\n",
        "\n",
        "DATOS = Sensores_Robots.head(50)\n",
        "\n",
        "DATOS = DATOS.dropna()\n",
        "DATOS = DATOS[DATOS['Distancia (cm)'] > 0]\n",
        "DATOS = DATOS[DATOS['Temperatura (°C)'] >= 0]\n",
        "DATOS = DATOS[DATOS['Tiempo (s)'] > 0]\n",
        "DATOS = DATOS[DATOS['Velocidad (cm/s)'] >0]\n",
        "\n",
        "print(DATOS)\n"
      ]
    },
    {
      "cell_type": "code",
      "source": [
        "LARGO = len(DATOS)\n",
        "print(LARGO)"
      ],
      "metadata": {
        "id": "A73eTsMVeKdm",
        "colab": {
          "base_uri": "https://localhost:8080/"
        },
        "outputId": "fe98b98d-81dd-4cb4-b67e-cb4afc17da44"
      },
      "execution_count": null,
      "outputs": [
        {
          "output_type": "stream",
          "name": "stdout",
          "text": [
            "46\n"
          ]
        }
      ]
    },
    {
      "cell_type": "code",
      "source": [
        "TIME_NMAX = DATOS['Tiempo (s)'].max()\n",
        "TIME_NMIN = DATOS['Tiempo (s)'].min()\n",
        "DIST_NMAX = DATOS['Distancia (cm)'].max()\n",
        "DIST_NMIN = DATOS['Distancia (cm)'].min()\n",
        "VEL_NMAX = DATOS['Velocidad (cm/s)'].max()\n",
        "VEL_NMIN = DATOS['Velocidad (cm/s)'].min()\n",
        "TEMP_MAX = DATOS['Temperatura (°C)'].max()\n",
        "TEMP_MIN = DATOS['Temperatura (°C)'].min()\n",
        "\n",
        "print(TIME_NMAX, ': Tiempo Maximo')\n",
        "print(TIME_NMIN, ': Tiempo Minimo')\n",
        "print(DIST_NMAX, ': Distancia Maxima')\n",
        "print(DIST_NMIN, ': Distancia Minima')\n",
        "print(VEL_NMAX, ': Velocidad Maxima')\n",
        "print(VEL_NMIN, ': Velocidad MInima')\n",
        "print(TEMP_MAX, ': Temperatura Maxima')\n",
        "print(TEMP_MIN, ': Temperatura Minima')"
      ],
      "metadata": {
        "colab": {
          "base_uri": "https://localhost:8080/"
        },
        "id": "iFktu4WbYkDE",
        "outputId": "d7adc564-11a3-4f51-f87a-36d0ceb6edd7"
      },
      "execution_count": null,
      "outputs": [
        {
          "output_type": "stream",
          "name": "stdout",
          "text": [
            "49 : Tiempo Maximo\n",
            "1 : Tiempo Minimo\n",
            "97.29188669 : Distancia Maxima\n",
            "11.85260449 : Distancia Minima\n",
            "49.3834004 : Velocidad Maxima\n",
            "1.063470543 : Velocidad MInima\n",
            "34.71945636 : Temperatura Maxima\n",
            "20.32735095 : Temperatura Minima\n"
          ]
        }
      ]
    },
    {
      "cell_type": "code",
      "source": [
        "TIME_NORM = (DATOS['Tiempo (s)'] - TIME_NMIN) / (TIME_NMAX - TIME_NMIN)\n",
        "DIST_NORM = (DATOS['Distancia (cm)'] - DIST_NMIN) / (DIST_NMAX - DIST_NMIN)\n",
        "VEL_NORM = (DATOS['Velocidad (cm/s)'] - VEL_NMIN) / (VEL_NMAX - VEL_NMIN)\n",
        "TEMP_NORM = (DATOS['Temperatura (°C)'] - TEMP_MIN) / (TEMP_MAX - TEMP_MIN)\n",
        "print(TIME_NORM)\n",
        "print(DIST_NORM)\n",
        "print(VEL_NORM)\n",
        "print(TEMP_NORM)"
      ],
      "metadata": {
        "colab": {
          "base_uri": "https://localhost:8080/"
        },
        "id": "LtOng6c4sRi-",
        "outputId": "768bec8b-5d53-4690-947f-6c1aae9010bd"
      },
      "execution_count": null,
      "outputs": [
        {
          "output_type": "stream",
          "name": "stdout",
          "text": [
            "1     0.000000\n",
            "2     0.020833\n",
            "3     0.041667\n",
            "4     0.062500\n",
            "5     0.083333\n",
            "6     0.104167\n",
            "7     0.125000\n",
            "8     0.145833\n",
            "9     0.166667\n",
            "10    0.187500\n",
            "11    0.208333\n",
            "12    0.229167\n",
            "13    0.250000\n",
            "14    0.270833\n",
            "15    0.291667\n",
            "16    0.312500\n",
            "17    0.333333\n",
            "18    0.354167\n",
            "19    0.375000\n",
            "20    0.395833\n",
            "21    0.416667\n",
            "22    0.437500\n",
            "24    0.479167\n",
            "25    0.500000\n",
            "26    0.520833\n",
            "27    0.541667\n",
            "29    0.583333\n",
            "30    0.604167\n",
            "31    0.625000\n",
            "33    0.666667\n",
            "34    0.687500\n",
            "35    0.708333\n",
            "36    0.729167\n",
            "37    0.750000\n",
            "38    0.770833\n",
            "39    0.791667\n",
            "40    0.812500\n",
            "41    0.833333\n",
            "42    0.854167\n",
            "43    0.875000\n",
            "44    0.895833\n",
            "45    0.916667\n",
            "46    0.937500\n",
            "47    0.958333\n",
            "48    0.979167\n",
            "49    1.000000\n",
            "Name: Tiempo (s), dtype: float64\n",
            "1     0.979780\n",
            "2     0.749384\n",
            "3     0.608931\n",
            "4     0.142664\n",
            "5     0.142638\n",
            "6     0.039501\n",
            "7     0.890729\n",
            "8     0.611519\n",
            "9     0.724186\n",
            "10    0.000000\n",
            "11    1.000000\n",
            "12    0.855195\n",
            "13    0.201990\n",
            "14    0.169847\n",
            "15    0.171511\n",
            "16    0.298799\n",
            "17    0.531084\n",
            "18    0.433319\n",
            "19    0.285092\n",
            "20    0.622830\n",
            "21    0.125257\n",
            "22    0.286056\n",
            "24    0.458732\n",
            "25    0.805405\n",
            "26    0.188649\n",
            "27    0.520001\n",
            "29    0.027247\n",
            "30    0.618292\n",
            "31    0.157943\n",
            "33    0.977853\n",
            "34    0.995494\n",
            "35    0.829866\n",
            "36    0.299191\n",
            "37    0.081203\n",
            "38    0.699074\n",
            "39    0.441964\n",
            "40    0.106869\n",
            "41    0.499926\n",
            "42    0.014541\n",
            "43    0.936176\n",
            "44    0.250910\n",
            "45    0.676204\n",
            "46    0.306667\n",
            "47    0.526146\n",
            "48    0.554210\n",
            "49    0.173039\n",
            "Name: Distancia (cm), dtype: float64\n",
            "1     0.538734\n",
            "2     0.881289\n",
            "3     0.735675\n",
            "4     0.812596\n",
            "5     0.659680\n",
            "6     0.694338\n",
            "7     0.856713\n",
            "8     0.236340\n",
            "9     0.484433\n",
            "10    0.206892\n",
            "11    1.000000\n",
            "12    0.954875\n",
            "13    0.018789\n",
            "14    0.708099\n",
            "15    0.935410\n",
            "16    0.164845\n",
            "17    0.565684\n",
            "18    0.925311\n",
            "19    0.013117\n",
            "20    0.699660\n",
            "21    0.285679\n",
            "22    0.934528\n",
            "24    0.955089\n",
            "25    0.468694\n",
            "26    0.870007\n",
            "27    0.851905\n",
            "29    0.835728\n",
            "30    0.016285\n",
            "31    0.594993\n",
            "33    0.102750\n",
            "34    0.057620\n",
            "35    0.698490\n",
            "36    0.329683\n",
            "37    0.727958\n",
            "38    0.045620\n",
            "39    0.304244\n",
            "40    0.536240\n",
            "41    0.796207\n",
            "42    0.307826\n",
            "43    0.625644\n",
            "44    0.894774\n",
            "45    0.615268\n",
            "46    0.219050\n",
            "47    0.003240\n",
            "48    0.878343\n",
            "49    0.000000\n",
            "Name: Velocidad (cm/s), dtype: float64\n",
            "1     0.234666\n",
            "2     0.921788\n",
            "3     0.237341\n",
            "4     0.260691\n",
            "5     0.768729\n",
            "6     0.445991\n",
            "7     0.786772\n",
            "8     0.045382\n",
            "9     0.485420\n",
            "10    0.012288\n",
            "11    0.042554\n",
            "12    0.921978\n",
            "13    0.122382\n",
            "14    0.532164\n",
            "15    0.405714\n",
            "16    0.339269\n",
            "17    0.915095\n",
            "18    0.000000\n",
            "19    0.669082\n",
            "20    0.981341\n",
            "21    0.561083\n",
            "22    0.953647\n",
            "24    0.413737\n",
            "25    0.248401\n",
            "26    0.738944\n",
            "27    1.000000\n",
            "29    0.659060\n",
            "30    0.183720\n",
            "31    0.566464\n",
            "33    0.990316\n",
            "34    0.611485\n",
            "35    0.341524\n",
            "36    0.096170\n",
            "37    0.134890\n",
            "38    0.212089\n",
            "39    0.238822\n",
            "40    0.863799\n",
            "41    0.562183\n",
            "42    0.522753\n",
            "43    0.096871\n",
            "44    0.873725\n",
            "45    0.730599\n",
            "46    0.047781\n",
            "47    0.714988\n",
            "48    0.543751\n",
            "49    0.062432\n",
            "Name: Temperatura (°C), dtype: float64\n"
          ]
        }
      ]
    },
    {
      "cell_type": "code",
      "source": [
        "x = TIME_NORM\n",
        "y = DIST_NORM\n",
        "\n",
        "plt.plot(x, y, 'o', label='Distancia')\n",
        "plt.xlabel('Tiempo (s)')\n",
        "plt.ylabel('Distancia (cm)')\n",
        "plt.show()\n"
      ],
      "metadata": {
        "colab": {
          "base_uri": "https://localhost:8080/",
          "height": 449
        },
        "id": "N6qIrjFttVB-",
        "outputId": "c35066ec-c1ba-4cf4-dd3a-c71a860546bc"
      },
      "execution_count": null,
      "outputs": [
        {
          "output_type": "display_data",
          "data": {
            "text/plain": [
              "<Figure size 640x480 with 1 Axes>"
            ],
            "image/png": "[encoded data removed]"
          },
          "metadata": {}
        }
      ]
    },
    {
      "cell_type": "code",
      "source": [
        "x = TIME_NORM\n",
        "y = VEL_NORM\n",
        "\n",
        "plt.plot(x, y, 'o', label='Velocidad', color='green')\n",
        "plt.xlabel('Tiempo (s)')\n",
        "plt.ylabel('Velocidad (cm/s)')\n",
        "plt.show()"
      ],
      "metadata": {
        "colab": {
          "base_uri": "https://localhost:8080/",
          "height": 449
        },
        "id": "qyw9wYTaL_0U",
        "outputId": "851f5d85-3e96-4553-9a89-a341bb5cb6d6"
      },
      "execution_count": null,
      "outputs": [
        {
          "output_type": "display_data",
          "data": {
            "text/plain": [
              "<Figure size 640x480 with 1 Axes>"
            ],
            "image/png": "[encoded data removed]"
          },
          "metadata": {}
        }
      ]
    },
    {
      "cell_type": "code",
      "source": [
        "x = TIME_NORM\n",
        "y = TEMP_NORM\n",
        "\n",
        "plt.plot(x, y, 'o', label='Temperatura', color='red')\n",
        "plt.xlabel('Tiempo (s)')\n",
        "plt.ylabel('Temperatura (°C)')\n",
        "plt.show()"
      ],
      "metadata": {
        "colab": {
          "base_uri": "https://localhost:8080/",
          "height": 449
        },
        "id": "l5TNvFb1Mjly",
        "outputId": "2bb80d7c-ec23-4558-bf8e-3a35d203256f"
      },
      "execution_count": null,
      "outputs": [
        {
          "output_type": "display_data",
          "data": {
            "text/plain": [
              "<Figure size 640x480 with 1 Axes>"
            ],
            "image/png": "[encoded data removed]"
          },
          "metadata": {}
        }
      ]
    }
  ]
}
